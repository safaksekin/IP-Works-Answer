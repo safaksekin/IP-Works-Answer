{
 "cells": [
  {
   "cell_type": "code",
   "execution_count": 45,
   "id": "ed3e7bb8",
   "metadata": {},
   "outputs": [
    {
     "data": {
      "text/html": [
       "<div>\n",
       "<style scoped>\n",
       "    .dataframe tbody tr th:only-of-type {\n",
       "        vertical-align: middle;\n",
       "    }\n",
       "\n",
       "    .dataframe tbody tr th {\n",
       "        vertical-align: top;\n",
       "    }\n",
       "\n",
       "    .dataframe thead th {\n",
       "        text-align: right;\n",
       "    }\n",
       "</style>\n",
       "<table border=\"1\" class=\"dataframe\">\n",
       "  <thead>\n",
       "    <tr style=\"text-align: right;\">\n",
       "      <th></th>\n",
       "      <th>country</th>\n",
       "      <th>date</th>\n",
       "      <th>daily_vaccinations</th>\n",
       "      <th>vaccines</th>\n",
       "    </tr>\n",
       "  </thead>\n",
       "  <tbody>\n",
       "    <tr>\n",
       "      <th>0</th>\n",
       "      <td>Argentina</td>\n",
       "      <td>12/29/2020</td>\n",
       "      <td>NaN</td>\n",
       "      <td>Sputnik V</td>\n",
       "    </tr>\n",
       "    <tr>\n",
       "      <th>1</th>\n",
       "      <td>Argentina</td>\n",
       "      <td>12/30/2020</td>\n",
       "      <td>15656.0</td>\n",
       "      <td>Sputnik V</td>\n",
       "    </tr>\n",
       "    <tr>\n",
       "      <th>2</th>\n",
       "      <td>Argentina</td>\n",
       "      <td>12/31/2020</td>\n",
       "      <td>15656.0</td>\n",
       "      <td>Sputnik V</td>\n",
       "    </tr>\n",
       "    <tr>\n",
       "      <th>3</th>\n",
       "      <td>Argentina</td>\n",
       "      <td>1/1/2021</td>\n",
       "      <td>11070.0</td>\n",
       "      <td>Sputnik V</td>\n",
       "    </tr>\n",
       "    <tr>\n",
       "      <th>4</th>\n",
       "      <td>Argentina</td>\n",
       "      <td>1/2/2021</td>\n",
       "      <td>8776.0</td>\n",
       "      <td>Sputnik V</td>\n",
       "    </tr>\n",
       "  </tbody>\n",
       "</table>\n",
       "</div>"
      ],
      "text/plain": [
       "     country        date  daily_vaccinations   vaccines\n",
       "0  Argentina  12/29/2020                 NaN  Sputnik V\n",
       "1  Argentina  12/30/2020             15656.0  Sputnik V\n",
       "2  Argentina  12/31/2020             15656.0  Sputnik V\n",
       "3  Argentina    1/1/2021             11070.0  Sputnik V\n",
       "4  Argentina    1/2/2021              8776.0  Sputnik V"
      ]
     },
     "execution_count": 45,
     "metadata": {},
     "output_type": "execute_result"
    }
   ],
   "source": [
    "import numpy as np\n",
    "import pandas as pd\n",
    "df=pd.read_csv(\"country_vaccination_stats.csv\")\n",
    "df.head()"
   ]
  },
  {
   "cell_type": "code",
   "execution_count": 46,
   "id": "ce8c049a",
   "metadata": {},
   "outputs": [
    {
     "data": {
      "text/plain": [
       "Index(['Wales', 'Canada', 'Scotland', 'Northern Ireland', 'Israel',\n",
       "       'United States', 'China', 'United Kingdom', 'England', 'Mexico',\n",
       "       'Chile', 'Lithuania', 'Denmark', 'Italy', 'Czechia', 'Russia',\n",
       "       'Switzerland', 'Romania', 'Estonia', 'Germany', 'Norway', 'Greece',\n",
       "       'Bahrain', 'Latvia', 'Portugal', 'Poland', 'Oman', 'Malta', 'Argentina',\n",
       "       'Bulgaria', 'Hungary', 'Croatia', 'Iceland', 'Belgium', 'Luxembourg',\n",
       "       'Costa Rica', 'Finland', 'Ireland', 'Sweden', 'Spain', 'Slovenia',\n",
       "       'France', 'United Arab Emirates', 'Austria', 'Serbia', 'Slovakia',\n",
       "       'Netherlands', 'Cyprus', 'Seychelles', 'Gibraltar', 'Indonesia',\n",
       "       'Turkey', 'Saudi Arabia', 'Singapore', 'India', 'Brazil', 'Panama',\n",
       "       'Isle of Man', 'Ecuador', 'Kuwait'],\n",
       "      dtype='object')"
      ]
     },
     "execution_count": 46,
     "metadata": {},
     "output_type": "execute_result"
    }
   ],
   "source": [
    "countries=df[\"country\"].value_counts()\n",
    "cnt_list=countries.keys()\n",
    "cnt_list"
   ]
  },
  {
   "cell_type": "code",
   "execution_count": 47,
   "id": "b20c48b8",
   "metadata": {},
   "outputs": [
    {
     "name": "stderr",
     "output_type": "stream",
     "text": [
      "C:\\Users\\safak\\anaconda3\\lib\\site-packages\\numpy\\lib\\nanfunctions.py:1113: RuntimeWarning: All-NaN slice encountered\n",
      "  r, k = function_base._ureduce(a, func=_nanmedian, axis=axis, out=out,\n"
     ]
    }
   ],
   "source": [
    "median_list=[]\n",
    "name_list=[]\n",
    "for i in range(len(cnt_list)):\n",
    "    median_list.append(np.nanmedian(df.loc[df[\"country\"]==cnt_list[i]][\"daily_vaccinations\"]))\n",
    "    name_list.append(cnt_list[i])"
   ]
  },
  {
   "cell_type": "code",
   "execution_count": 48,
   "id": "828460ba",
   "metadata": {},
   "outputs": [],
   "source": [
    "name_list=name_list[::-1]"
   ]
  },
  {
   "cell_type": "code",
   "execution_count": 49,
   "id": "82c9bc48",
   "metadata": {},
   "outputs": [
    {
     "name": "stdout",
     "output_type": "stream",
     "text": [
      "Top 3 Countries with with Highest Medain Value: ['Kuwait', 'Ecuador', 'Isle of Man']\n"
     ]
    }
   ],
   "source": [
    "print(\"Top 3 Countries with with Highest Medain Value: {}\".format(name_list[:3]))"
   ]
  }
 ],
 "metadata": {
  "kernelspec": {
   "display_name": "Python 3 (ipykernel)",
   "language": "python",
   "name": "python3"
  },
  "language_info": {
   "codemirror_mode": {
    "name": "ipython",
    "version": 3
   },
   "file_extension": ".py",
   "mimetype": "text/x-python",
   "name": "python",
   "nbconvert_exporter": "python",
   "pygments_lexer": "ipython3",
   "version": "3.9.7"
  }
 },
 "nbformat": 4,
 "nbformat_minor": 5
}
